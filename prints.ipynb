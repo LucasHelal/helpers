{
 "cells": [
  {
   "cell_type": "markdown",
   "metadata": {},
   "source": [
    "## Testing Notebooks in vscode indesiders\n",
    "\n",
    "### Using % and . format (Prints) in Python"
   ]
  },
  {
   "cell_type": "markdown",
   "metadata": {},
   "source": [
    "#### Basic Format"
   ]
  },
  {
   "cell_type": "code",
   "execution_count": 137,
   "metadata": {},
   "outputs": [
    {
     "output_type": "execute_result",
     "data": {
      "text/plain": "'Lucas Helal'"
     },
     "metadata": {},
     "execution_count": 137
    }
   ],
   "source": [
    "# OLD/NEW\n",
    "\n",
    "'%s %s' % ('Lucas', 'Helal')\n",
    "'{} {}'.format('Lucas', 'Helal')"
   ]
  },
  {
   "cell_type": "code",
   "execution_count": 139,
   "metadata": {},
   "outputs": [
    {
     "output_type": "execute_result",
     "data": {
      "text/plain": "'9 1'"
     },
     "metadata": {},
     "execution_count": 139
    }
   ],
   "source": [
    "# OLD/NEW\n",
    "'%d %d' % (9, 1)\n",
    "'{} {}'.format(9, 1)"
   ]
  },
  {
   "cell_type": "code",
   "execution_count": 141,
   "metadata": {},
   "outputs": [
    {
     "output_type": "execute_result",
     "data": {
      "text/plain": "'Lucas Georges Helal'"
     },
     "metadata": {},
     "execution_count": 141
    }
   ],
   "source": [
    "'{1} {0} {2}'.format('Georges', 'Lucas', 'Helal')"
   ]
  },
  {
   "cell_type": "markdown",
   "metadata": {},
   "source": [
    "#### Value conversion"
   ]
  },
  {
   "cell_type": "code",
   "execution_count": 143,
   "metadata": {},
   "outputs": [],
   "source": [
    "class Data(object):\n",
    "    def __str__(self):\n",
    "        return 'str'\n",
    "    \n",
    "    def __repr__(self):\n",
    "        return 'repr'"
   ]
  },
  {
   "cell_type": "code",
   "execution_count": 145,
   "metadata": {},
   "outputs": [
    {
     "output_type": "execute_result",
     "data": {
      "text/plain": "'str repr'"
     },
     "metadata": {},
     "execution_count": 145
    }
   ],
   "source": [
    "# OLD/NEW\n",
    "\n",
    "'%s %r' % (Data(), Data())\n",
    "'{0!s} {0!r}'.format(Data())"
   ]
  },
  {
   "cell_type": "markdown",
   "metadata": {},
   "source": [
    "#### Padding and aligning strings\n"
   ]
  },
  {
   "cell_type": "code",
   "execution_count": 147,
   "metadata": {},
   "outputs": [
    {
     "output_type": "execute_result",
     "data": {
      "text/plain": "'      name'"
     },
     "metadata": {},
     "execution_count": 147
    }
   ],
   "source": [
    "# Align Right\n",
    "# OLD/NEW\n",
    "\n",
    "'%10s' % ('name')\n",
    "'{:>10}'.format('name')"
   ]
  },
  {
   "cell_type": "code",
   "execution_count": 149,
   "metadata": {},
   "outputs": [
    {
     "output_type": "execute_result",
     "data": {
      "text/plain": "'name      '"
     },
     "metadata": {},
     "execution_count": 149
    }
   ],
   "source": [
    "# Align Left\n",
    "# OLD/NEW\n",
    "\n",
    "\n",
    "'%10s' % ('name')\n",
    "'{:10}'.format('name')"
   ]
  },
  {
   "cell_type": "code",
   "execution_count": 151,
   "metadata": {},
   "outputs": [
    {
     "output_type": "execute_result",
     "data": {
      "text/plain": "'name******'"
     },
     "metadata": {},
     "execution_count": 151
    }
   ],
   "source": [
    "# Only NEW\n",
    "\n",
    "# Choose padding character\n",
    "\n",
    "'{:*<10}'.format('name')"
   ]
  },
  {
   "cell_type": "code",
   "execution_count": 153,
   "metadata": {},
   "outputs": [
    {
     "output_type": "execute_result",
     "data": {
      "text/plain": "'   name   '"
     },
     "metadata": {},
     "execution_count": 153
    }
   ],
   "source": [
    "# Only NEW\n",
    "\n",
    "# Align Center\n",
    "\n",
    "'{:^10}'.format('name')"
   ]
  },
  {
   "cell_type": "markdown",
   "metadata": {},
   "source": [
    "#### Truncating long strings\n"
   ]
  },
  {
   "cell_type": "code",
   "execution_count": 155,
   "metadata": {},
   "outputs": [
    {
     "output_type": "execute_result",
     "data": {
      "text/plain": "'LGH'"
     },
     "metadata": {},
     "execution_count": 155
    }
   ],
   "source": [
    "# OLD/NEW\n",
    "\n",
    "'%.3s' % ('LGHelal')\n",
    "'{:.3}'.format('LGHelal')"
   ]
  },
  {
   "cell_type": "markdown",
   "metadata": {},
   "source": [
    "#### Combining truncating and padding\n"
   ]
  },
  {
   "cell_type": "code",
   "execution_count": 157,
   "metadata": {},
   "outputs": [
    {
     "output_type": "execute_result",
     "data": {
      "text/plain": "'    LGH'"
     },
     "metadata": {},
     "execution_count": 157
    }
   ],
   "source": [
    "# OLD/NEW\n",
    "\n",
    "'%7.3s' % ('LGHelal')\n",
    "'{:>7.3}'.format('LGHelal')"
   ]
  },
  {
   "cell_type": "markdown",
   "metadata": {},
   "source": [
    "#### Number"
   ]
  },
  {
   "cell_type": "code",
   "execution_count": 159,
   "metadata": {},
   "outputs": [
    {
     "output_type": "execute_result",
     "data": {
      "text/plain": "'91'"
     },
     "metadata": {},
     "execution_count": 159
    }
   ],
   "source": [
    "# OLD/NEW\n",
    "# Integers\n",
    "\n",
    "'%d' % (91)\n",
    "'{:d}'.format(91)\n"
   ]
  },
  {
   "cell_type": "code",
   "execution_count": 161,
   "metadata": {},
   "outputs": [
    {
     "output_type": "execute_result",
     "data": {
      "text/plain": "'3.141593'"
     },
     "metadata": {},
     "execution_count": 161
    }
   ],
   "source": [
    "# OLD/NEW\n",
    "# Floats\n",
    "\n",
    "'%f' % (3.14159265)\n",
    "'{:f}'.format(3.14159265)"
   ]
  },
  {
   "cell_type": "markdown",
   "metadata": {},
   "source": [
    "#### Padding Number"
   ]
  },
  {
   "cell_type": "code",
   "execution_count": 163,
   "metadata": {},
   "outputs": [
    {
     "output_type": "execute_result",
     "data": {
      "text/plain": "'  42'"
     },
     "metadata": {},
     "execution_count": 163
    }
   ],
   "source": [
    "# OLD/NEW\n",
    "\n",
    "'%4d' % (42)\n",
    "'{:4d}'.format(42)"
   ]
  },
  {
   "cell_type": "code",
   "execution_count": 165,
   "metadata": {},
   "outputs": [
    {
     "output_type": "execute_result",
     "data": {
      "text/plain": "'003.14'"
     },
     "metadata": {},
     "execution_count": 165
    }
   ],
   "source": [
    "# OLD/NEW\n",
    "\n",
    "'%06.2f' % (3.14159265)\n",
    "'{:06.2f}'.format(3.14159265)"
   ]
  },
  {
   "cell_type": "code",
   "execution_count": 166,
   "metadata": {},
   "outputs": [
    {
     "output_type": "execute_result",
     "data": {
      "text/plain": "'0091'"
     },
     "metadata": {},
     "execution_count": 166
    }
   ],
   "source": [
    "# OLD/NEW\n",
    "\n",
    "'%04d' % (91)\n",
    "'{:04d}'.format(91)"
   ]
  },
  {
   "cell_type": "markdown",
   "metadata": {},
   "source": [
    "#### Signed number"
   ]
  },
  {
   "cell_type": "code",
   "execution_count": 167,
   "metadata": {},
   "outputs": [
    {
     "output_type": "execute_result",
     "data": {
      "text/plain": "'+91'"
     },
     "metadata": {},
     "execution_count": 167
    }
   ],
   "source": [
    "# OLD/NEW\n",
    "\n",
    "'%+d' % (91)\n",
    "'{:+d}'.format(91)"
   ]
  },
  {
   "cell_type": "code",
   "execution_count": 168,
   "metadata": {},
   "outputs": [
    {
     "output_type": "execute_result",
     "data": {
      "text/plain": "'-91'"
     },
     "metadata": {},
     "execution_count": 168
    }
   ],
   "source": [
    "# OLD/NEW\n",
    "\n",
    "'% d' % (- 91)\n",
    "'{: d}'.format(- 91)"
   ]
  },
  {
   "cell_type": "code",
   "execution_count": 169,
   "metadata": {},
   "outputs": [
    {
     "output_type": "execute_result",
     "data": {
      "text/plain": "'-   9'"
     },
     "metadata": {},
     "execution_count": 169
    }
   ],
   "source": [
    "'{:=5d}'.format(- 9)"
   ]
  },
  {
   "cell_type": "code",
   "execution_count": 170,
   "metadata": {},
   "outputs": [
    {
     "output_type": "execute_result",
     "data": {
      "text/plain": "'+   9'"
     },
     "metadata": {},
     "execution_count": 170
    }
   ],
   "source": [
    "'{:=+5d}'.format(9)"
   ]
  },
  {
   "cell_type": "markdown",
   "metadata": {},
   "source": [
    "#### Named Placeholders\n"
   ]
  },
  {
   "cell_type": "code",
   "execution_count": 171,
   "metadata": {},
   "outputs": [
    {
     "output_type": "execute_result",
     "data": {
      "text/plain": "'Lucas Helal'"
     },
     "metadata": {},
     "execution_count": 171
    }
   ],
   "source": [
    "name = {'first': 'Lucas', 'last': 'Helal'}\n",
    "\n",
    "# OLD/NEW\n",
    "\n",
    "'%(first)s %(last)s' % name\n",
    "'{first} {last}'.format(**name)"
   ]
  },
  {
   "cell_type": "code",
   "execution_count": 172,
   "metadata": {},
   "outputs": [
    {
     "output_type": "execute_result",
     "data": {
      "text/plain": "'Lucas Georges Helal'"
     },
     "metadata": {},
     "execution_count": 172
    }
   ],
   "source": [
    "'{first} {middle} {last}'.format(**name, middle='Georges')"
   ]
  },
  {
   "cell_type": "markdown",
   "metadata": {},
   "source": [
    "#### Getitem and Getattr\n"
   ]
  },
  {
   "cell_type": "code",
   "execution_count": 173,
   "metadata": {},
   "outputs": [
    {
     "output_type": "execute_result",
     "data": {
      "text/plain": "'Maringá Vancouver Auckland'"
     },
     "metadata": {},
     "execution_count": 173
    }
   ],
   "source": [
    "cities = {'BR': 'Maringá', 'CA': 'Vancouver', 'NZ': 'Auckland'}\n",
    "\n",
    "'{c[BR]} {c[CA]} {c[NZ]}'.format(c=cities)\n"
   ]
  },
  {
   "cell_type": "code",
   "execution_count": 174,
   "metadata": {},
   "outputs": [
    {
     "output_type": "execute_result",
     "data": {
      "text/plain": "{'BR': 'Maringá', 'CA': 'Vancouver', 'NZ': 'Auckland'}"
     },
     "metadata": {},
     "execution_count": 174
    }
   ],
   "source": [
    "cities"
   ]
  },
  {
   "cell_type": "code",
   "execution_count": 175,
   "metadata": {},
   "outputs": [
    {
     "output_type": "execute_result",
     "data": {
      "text/plain": "'1 1991'"
     },
     "metadata": {},
     "execution_count": 175
    }
   ],
   "source": [
    "data = [9, 1, 91, 1991]\n",
    "\n",
    "'{d[1]} {d[3]}'.format(d=data)"
   ]
  },
  {
   "cell_type": "code",
   "execution_count": 176,
   "metadata": {},
   "outputs": [
    {
     "output_type": "execute_result",
     "data": {
      "text/plain": "'Black'"
     },
     "metadata": {},
     "execution_count": 176
    }
   ],
   "source": [
    "class Car(object):\n",
    "    color = 'Black'\n",
    "    condition = [{'type': 'New'}, {'type': 'Used'}]\n",
    "'{c.color}'.format(c=Car())"
   ]
  },
  {
   "cell_type": "code",
   "execution_count": 177,
   "metadata": {},
   "outputs": [
    {
     "output_type": "execute_result",
     "data": {
      "text/plain": "'Used: Black'"
     },
     "metadata": {},
     "execution_count": 177
    }
   ],
   "source": [
    "'{c.condition[1][type]}: {c.color}'.format(c=Car())"
   ]
  },
  {
   "cell_type": "markdown",
   "metadata": {},
   "source": [
    "#### Datetime"
   ]
  },
  {
   "cell_type": "code",
   "execution_count": 178,
   "metadata": {},
   "outputs": [
    {
     "output_type": "execute_result",
     "data": {
      "text/plain": "'29-05-2020 17:05'"
     },
     "metadata": {},
     "execution_count": 178
    }
   ],
   "source": [
    "from datetime import datetime\n",
    "\n",
    "'{:%d-%m-%Y %H:%m}'.format(datetime(2020, 5, 29, 17, 10 ))"
   ]
  },
  {
   "cell_type": "markdown",
   "metadata": {},
   "source": [
    "#### Parametrized formats"
   ]
  },
  {
   "cell_type": "code",
   "execution_count": 179,
   "metadata": {},
   "outputs": [
    {
     "output_type": "execute_result",
     "data": {
      "text/plain": "'   Helal   '"
     },
     "metadata": {},
     "execution_count": 179
    }
   ],
   "source": [
    "# Parametrized alignment and width\n",
    "\n",
    "'{:{align}{width}}'.format('Helal', align='^', width='11')"
   ]
  },
  {
   "cell_type": "code",
   "execution_count": 180,
   "metadata": {},
   "outputs": [
    {
     "output_type": "execute_result",
     "data": {
      "text/plain": "'PI = 3.14'"
     },
     "metadata": {},
     "execution_count": 180
    }
   ],
   "source": [
    "# Parametrized precision\n",
    "\n",
    "'{:.{prec}} = {:.{prec}f}'.format('PI Number', 3.1415, prec=2)"
   ]
  },
  {
   "cell_type": "code",
   "execution_count": 181,
   "metadata": {},
   "outputs": [
    {
     "output_type": "execute_result",
     "data": {
      "text/plain": "'   3.142'"
     },
     "metadata": {},
     "execution_count": 181
    }
   ],
   "source": [
    "# Width and Precison\n",
    "\n",
    "'{:{width}.{prec}f}'.format(3.1415, width=8, prec=3)"
   ]
  },
  {
   "cell_type": "code",
   "execution_count": 182,
   "metadata": {},
   "outputs": [],
   "source": [
    "## Nested"
   ]
  },
  {
   "cell_type": "code",
   "execution_count": 183,
   "metadata": {},
   "outputs": [
    {
     "output_type": "execute_result",
     "data": {
      "text/plain": "'PI  = 3.14'"
     },
     "metadata": {},
     "execution_count": 183
    }
   ],
   "source": [
    "'{:{prec}} = {:{prec}}'.format('PI Number', 3.1415, prec='.3')"
   ]
  },
  {
   "cell_type": "code",
   "execution_count": 184,
   "metadata": {},
   "outputs": [
    {
     "output_type": "execute_result",
     "data": {
      "text/plain": "'2020-05-29 17:10'"
     },
     "metadata": {},
     "execution_count": 184
    }
   ],
   "source": [
    "from datetime import datetime\n",
    "\n",
    "dt = datetime(2020, 5, 29, 17, 10)\n",
    "\n",
    "'{:{dfmt} {tfmt}}'.format(dt, dfmt='%Y-%m-%d', tfmt='%H:%M')\n"
   ]
  },
  {
   "cell_type": "code",
   "execution_count": 185,
   "metadata": {},
   "outputs": [
    {
     "output_type": "execute_result",
     "data": {
      "text/plain": "'     +3.14'"
     },
     "metadata": {},
     "execution_count": 185
    }
   ],
   "source": [
    "'{:{}{}{}.{}}'.format(3.1415, '>', '+', 10, 3)"
   ]
  },
  {
   "cell_type": "code",
   "execution_count": 186,
   "metadata": {},
   "outputs": [
    {
     "output_type": "execute_result",
     "data": {
      "text/plain": "'     +3.14'"
     },
     "metadata": {},
     "execution_count": 186
    }
   ],
   "source": [
    "'{:{}{sign}{}.{}}'.format(3.1415, '>', 10, 3, sign='+')"
   ]
  },
  {
   "cell_type": "markdown",
   "metadata": {},
   "source": [
    "#### Custom objects\n"
   ]
  },
  {
   "cell_type": "code",
   "execution_count": 187,
   "metadata": {},
   "outputs": [],
   "source": [
    "class HAL9000(object):\n",
    "\n",
    "    def __format__(self, format):\n",
    "        if (format == 'open-the-pod-bay-doors'):\n",
    "            return \"I'm afraid I can't do that.\"\n",
    "        return 'HAL 9000'"
   ]
  },
  {
   "cell_type": "code",
   "execution_count": 188,
   "metadata": {},
   "outputs": [
    {
     "output_type": "execute_result",
     "data": {
      "text/plain": "\"I'm afraid I can't do that.\""
     },
     "metadata": {},
     "execution_count": 188
    }
   ],
   "source": [
    "'{:open-the-pod-bay-doors}'.format(HAL9000())"
   ]
  },
  {
   "cell_type": "code",
   "execution_count": null,
   "metadata": {},
   "outputs": [],
   "source": []
  }
 ],
 "metadata": {
  "language_info": {
   "codemirror_mode": {
    "name": "ipython",
    "version": 3
   },
   "file_extension": ".py",
   "mimetype": "text/x-python",
   "name": "python",
   "nbconvert_exporter": "python",
   "pygments_lexer": "ipython3",
   "version": "3.7.4-final"
  },
  "orig_nbformat": 2,
  "kernelspec": {
   "name": "python3",
   "display_name": "Python 3"
  }
 },
 "nbformat": 4,
 "nbformat_minor": 2
}
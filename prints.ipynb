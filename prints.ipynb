{
 "cells": [
  {
   "cell_type": "markdown",
   "metadata": {},
   "source": [
    "## Testing Notebooks in vscode indesiders\n",
    "\n",
    "### Using % and . format (Prints) in Python"
   ]
  },
  {
   "cell_type": "markdown",
   "metadata": {},
   "source": [
    "#### Basic Format"
   ]
  },
  {
   "cell_type": "code",
   "execution_count": 14,
   "metadata": {},
   "outputs": [
    {
     "output_type": "execute_result",
     "data": {
      "text/plain": "'Lucas Helal'"
     },
     "metadata": {},
     "execution_count": 14
    }
   ],
   "source": [
    "# OLD/NEW\n",
    "\n",
    "'%s %s' % ('Lucas', 'Helal')\n",
    "'{} {}'.format('Lucas', 'Helal')"
   ]
  },
  {
   "cell_type": "code",
   "execution_count": 15,
   "metadata": {},
   "outputs": [
    {
     "output_type": "execute_result",
     "data": {
      "text/plain": "'9 1'"
     },
     "metadata": {},
     "execution_count": 15
    }
   ],
   "source": [
    "# OLD/NEW\n",
    "'%d %d' % (9, 1)\n",
    "'{} {}'.format(9, 1)"
   ]
  },
  {
   "cell_type": "code",
   "execution_count": 16,
   "metadata": {},
   "outputs": [
    {
     "output_type": "execute_result",
     "data": {
      "text/plain": "'Lucas Georges Helal'"
     },
     "metadata": {},
     "execution_count": 16
    }
   ],
   "source": [
    "'{1} {0} {2}'.format('Georges', 'Lucas', 'Helal')"
   ]
  },
  {
   "cell_type": "markdown",
   "metadata": {},
   "source": [
    "#### Value conversion"
   ]
  },
  {
   "cell_type": "code",
   "execution_count": 20,
   "metadata": {},
   "outputs": [],
   "source": [
    "class Data(object):\n",
    "    def __str__(self):\n",
    "        return 'str'\n",
    "    \n",
    "    def __repr__(self):\n",
    "        return 'repr'"
   ]
  },
  {
   "cell_type": "code",
   "execution_count": 24,
   "metadata": {},
   "outputs": [
    {
     "output_type": "execute_result",
     "data": {
      "text/plain": "'str repr'"
     },
     "metadata": {},
     "execution_count": 24
    }
   ],
   "source": [
    "# OLD/NEW\n",
    "\n",
    "'%s %r' % (Data(), Data())\n",
    "'{0!s} {0!r}'.format(Data())"
   ]
  },
  {
   "cell_type": "markdown",
   "metadata": {},
   "source": [
    "#### Padding and aligning strings\n"
   ]
  },
  {
   "cell_type": "code",
   "execution_count": 38,
   "metadata": {},
   "outputs": [
    {
     "output_type": "execute_result",
     "data": {
      "text/plain": "'      name'"
     },
     "metadata": {},
     "execution_count": 38
    }
   ],
   "source": [
    "# Align Right\n",
    "# OLD/NEW\n",
    "\n",
    "'%10s' % ('name')\n",
    "'{:>10}'.format('name')"
   ]
  },
  {
   "cell_type": "code",
   "execution_count": 43,
   "metadata": {},
   "outputs": [
    {
     "output_type": "execute_result",
     "data": {
      "text/plain": "'name      '"
     },
     "metadata": {},
     "execution_count": 43
    }
   ],
   "source": [
    "# Align Left\n",
    "# OLD/NEW\n",
    "\n",
    "\n",
    "'%10s' % ('name')\n",
    "'{:10}'.format('name')"
   ]
  },
  {
   "cell_type": "code",
   "execution_count": 52,
   "metadata": {},
   "outputs": [
    {
     "output_type": "execute_result",
     "data": {
      "text/plain": "'name******'"
     },
     "metadata": {},
     "execution_count": 52
    }
   ],
   "source": [
    "# Only NEW\n",
    "\n",
    "# Choose padding character\n",
    "\n",
    "'{:*<10}'.format('name')"
   ]
  },
  {
   "cell_type": "code",
   "execution_count": 54,
   "metadata": {},
   "outputs": [
    {
     "output_type": "execute_result",
     "data": {
      "text/plain": "'   name   '"
     },
     "metadata": {},
     "execution_count": 54
    }
   ],
   "source": [
    "# Only NEW\n",
    "\n",
    "# Align Center\n",
    "\n",
    "'{:^10}'.format('name')"
   ]
  },
  {
   "cell_type": "markdown",
   "metadata": {},
   "source": [
    "#### Truncating long strings\n"
   ]
  },
  {
   "cell_type": "code",
   "execution_count": 64,
   "metadata": {},
   "outputs": [
    {
     "output_type": "execute_result",
     "data": {
      "text/plain": "'LGH'"
     },
     "metadata": {},
     "execution_count": 64
    }
   ],
   "source": [
    "# OLD/NEW\n",
    "\n",
    "'%.3s' % ('LGHelal')\n",
    "'{:.3}'.format('LGHelal')"
   ]
  },
  {
   "cell_type": "markdown",
   "metadata": {},
   "source": [
    "#### Combining truncating and padding\n"
   ]
  },
  {
   "cell_type": "code",
   "execution_count": 70,
   "metadata": {},
   "outputs": [
    {
     "output_type": "execute_result",
     "data": {
      "text/plain": "'    LGH'"
     },
     "metadata": {},
     "execution_count": 70
    }
   ],
   "source": [
    "# OLD/NEW\n",
    "\n",
    "'%7.3s' % ('LGHelal')\n",
    "'{:>7.3}'.format('LGHelal')"
   ]
  },
  {
   "cell_type": "markdown",
   "metadata": {},
   "source": [
    "#### Number"
   ]
  },
  {
   "cell_type": "code",
   "execution_count": 74,
   "metadata": {},
   "outputs": [
    {
     "output_type": "execute_result",
     "data": {
      "text/plain": "'91'"
     },
     "metadata": {},
     "execution_count": 74
    }
   ],
   "source": [
    "# OLD/NEW\n",
    "# Integers\n",
    "\n",
    "'%d' % (91)\n",
    "'{:d}'.format(91)\n"
   ]
  },
  {
   "cell_type": "code",
   "execution_count": 76,
   "metadata": {},
   "outputs": [
    {
     "output_type": "execute_result",
     "data": {
      "text/plain": "'3.141593'"
     },
     "metadata": {},
     "execution_count": 76
    }
   ],
   "source": [
    "# OLD/NEW\n",
    "# Floats\n",
    "\n",
    "'%f' % (3.14159265)\n",
    "'{:f}'.format(3.14159265)"
   ]
  },
  {
   "cell_type": "code",
   "execution_count": null,
   "metadata": {},
   "outputs": [],
   "source": []
  },
  {
   "cell_type": "code",
   "execution_count": null,
   "metadata": {},
   "outputs": [],
   "source": []
  },
  {
   "cell_type": "code",
   "execution_count": null,
   "metadata": {},
   "outputs": [],
   "source": []
  }
 ],
 "metadata": {
  "language_info": {
   "codemirror_mode": {
    "name": "ipython",
    "version": 3
   },
   "file_extension": ".py",
   "mimetype": "text/x-python",
   "name": "python",
   "nbconvert_exporter": "python",
   "pygments_lexer": "ipython3",
   "version": "3.7.4-final"
  },
  "orig_nbformat": 2,
  "kernelspec": {
   "name": "python3",
   "display_name": "Python 3"
  }
 },
 "nbformat": 4,
 "nbformat_minor": 2
}